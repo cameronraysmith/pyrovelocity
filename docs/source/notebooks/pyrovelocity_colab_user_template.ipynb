{
  "cells": [
    {
      "cell_type": "markdown",
      "metadata": {
        "id": "Qpk2p3N13W_Q"
      },
      "source": [
        "# Pyrovelocity Colab user notebook template"
      ]
    },
    {
      "cell_type": "markdown",
      "metadata": {
        "id": "UdNEmmY_-uNy"
      },
      "source": [
        "<a target=\"_blank\" href=\"https://colab.research.google.com/github/pinellolab/pyrovelocity/blob/520-sum/docs/source/notebooks/pyrovelocity_colab_user_template.ipynb\">\n",
        "  <img \n",
        "    src=\"https://colab.research.google.com/assets/colab-badge.svg\" \n",
        "    alt=\"Open In Colab\"\n",
        "    width=\"109\" height=\"20\"/>\n",
        "</a> <a target=\"_blank\" href=\"https://nbviewer.jupyter.org/github/pinellolab/pyrovelocity/blob/520-sum/docs/source/notebooks/pyrovelocity_colab_user_template.ipynb\">\n",
        "  <img \n",
        "    src=\"https://raw.githubusercontent.com/jupyter/design/master/logos/Badges/nbviewer_badge.png\"\n",
        "    alt=\"Render with nbviewer\" \n",
        "    width=\"109\" height=\"20\"/>\n",
        "</a>"
      ]
    },
    {
      "cell_type": "markdown",
      "metadata": {
        "id": "9r9zVJED3bfH"
      },
      "source": [
        "## Setup environment"
      ]
    },
    {
      "cell_type": "markdown",
      "metadata": {
        "id": "pC-e2ZEELVDh"
      },
      "source": [
        "Installation should take less than **5 minutes**. \n",
        "It involves\n",
        "\n",
        "- (~1m) installing condacolab to access conda packages from colab\n",
        "- (~4m) installing pyrovelocity from conda-forge with mamba\n",
        "\n",
        "The simplest way to complete it is to run the `Setup environment` section, wait for the kernel to restart, and then run the same section again:\n",
        "\n",
        "- **fold** this `Setup environment` section above\n",
        "- **click the play button** underneath the section name to run the whole section for the first time (installs condacolab)\n",
        "- **wait** for the kernel to restart \n",
        "  - **ignore** expected notice in bottom left of Colab UI\n",
        "    - `Your session crashed for an unknown reason. View runtime logs`\n",
        "  - **ignore** `SystemExit` output in the `Install condacolab` subsection below\n",
        "- **refold** the `Setup environment` section (`SystemExit` / kernel restart will unfold it)\n",
        "- **click the same play button** as above to run the `Setup environment` section for a second time (installs pyrovelocity from conda-forge)\n",
        "\n",
        "Otherwise, the cells below can be executed manually.\n",
        "In either case, this section can be folded away after installation is complete.\n",
        "\n",
        "If you need to edit the **version number**, please see below."
      ]
    },
    {
      "cell_type": "markdown",
      "metadata": {
        "id": "tnQdC9wi3dpY"
      },
      "source": [
        "### Install conda in colab"
      ]
    },
    {
      "cell_type": "markdown",
      "metadata": {
        "id": "eylffLqA3GVb"
      },
      "source": [
        "This first stage will download and install [condacolab](https://github.com/conda-incubator/condacolab/tree/0.1.x). This usually takes less than **30 seconds**. The runtime will then automatically restart. After this you can execute \"Run all\" to complete installation or proceed linearly below if you have added additional content you do not want to run all at once."
      ]
    },
    {
      "cell_type": "markdown",
      "metadata": {},
      "source": [
        "#### Define functions to manage installation of condacolab"
      ]
    },
    {
      "cell_type": "code",
      "execution_count": null,
      "metadata": {
        "id": "IvG-lVKZ-7nS"
      },
      "outputs": [],
      "source": [
        "import importlib.util\n",
        "import subprocess\n",
        "import sys\n",
        "\n",
        "\n",
        "def is_module_available(module_name: str):\n",
        "    return importlib.util.find_spec(module_name) is not None\n",
        "\n",
        "\n",
        "def install_package(package_name: str):\n",
        "    \"\"\"\n",
        "    Install a package using pip. This is similar to cell magic\n",
        "    `!pip install package_name`, but in python code for compatibility\n",
        "    outside jupyter.\n",
        "\n",
        "    Args:\n",
        "        package_name (str): Name of the package to install.\n",
        "    \"\"\"\n",
        "    process = subprocess.Popen(\n",
        "        [\"pip\", \"install\", \"-q\", package_name],\n",
        "        stdout=subprocess.PIPE,\n",
        "        stderr=subprocess.PIPE,\n",
        "        text=True,\n",
        "    )\n",
        "    for line in process.stdout:\n",
        "        print(line, end=\"\")\n",
        "    for line in process.stderr:\n",
        "        print(line, end=\"\")\n",
        "    process.wait()\n",
        "\n",
        "\n",
        "def setup_condacolab():\n",
        "    if is_module_available(\"condacolab\"):\n",
        "        try:\n",
        "            import condacolab\n",
        "\n",
        "            condacolab.check()\n",
        "        except (ImportError, AssertionError):\n",
        "            print(\"condacolab is not successfully installed\")\n",
        "            sys.exit()\n",
        "    else:\n",
        "        print(\"Installing condacolab...\")\n",
        "        install_package(\"condacolab\")\n",
        "        try:\n",
        "            import condacolab\n",
        "\n",
        "            condacolab.install_mambaforge()\n",
        "            print(\n",
        "                \"\\nThe kernel needs to restart in order to use condacolab.\\n\"\n",
        "                \"Please run this cell again.\\n\"\n",
        "            )\n",
        "            sys.exit()\n",
        "        except (ImportError, AssertionError):\n",
        "            print(\"Failed to install condacolab properly.\")\n",
        "            sys.exit()\n"
      ]
    },
    {
      "cell_type": "markdown",
      "metadata": {},
      "source": [
        "#### Install condacolab"
      ]
    },
    {
      "cell_type": "code",
      "execution_count": null,
      "metadata": {},
      "outputs": [],
      "source": [
        "import os\n",
        "\n",
        "IN_COLAB = is_module_available(\"google.colab\")\n",
        "\n",
        "if IN_COLAB:\n",
        "    colab_release_tag = os.getenv(\"COLAB_RELEASE_TAG\", None)\n",
        "    print(f\"Google Colab release: {colab_release_tag}\")\n",
        "    setup_condacolab()\n",
        "else:\n",
        "    print(\"This notebook is probably not running in Google Colab\")"
      ]
    },
    {
      "cell_type": "markdown",
      "metadata": {
        "id": "sKUW7Jyq3hMc"
      },
      "source": [
        "### Install library and dependencies"
      ]
    },
    {
      "cell_type": "markdown",
      "metadata": {
        "id": "nLcvk6s9KMEU"
      },
      "source": [
        "The second stage installs the library from [conda-forge](https://conda-forge.org/packages/). See [conda-forge/packages/pyrovelocity](https://anaconda.org/conda-forge/pyrovelocity/files) for available versions, build strings, and build numbers. For example in\n",
        "\n",
        "> `noarch/pyrovelocity-0.2.0b11.dev1-pyhff70e4c_0.conda`\n",
        "\n",
        "`0.2.0b11.dev1` is the version\n",
        "`pyhff70e4c` is the build string and\n",
        "`0` is the build number. All three need to be specified to determine a unique package version and associated installation. We generally intend to keep the defaults below close to the latest stable version. This usually takes less than **3 minutes**."
      ]
    },
    {
      "cell_type": "code",
      "execution_count": null,
      "metadata": {
        "id": "rv1eo6du_QWQ"
      },
      "outputs": [],
      "source": [
        "%%bash\n",
        "\n",
        "set -euo pipefail\n",
        "\n",
        "printf \"Checking for package managers...\\n\"\n",
        "\n",
        "PACKAGE_NAME=\"pyrovelocity\"\n",
        "PACKAGE_VERSION=\"0.2.0b11.dev1\"\n",
        "CONDA_BUILD_STRING=\"pyhff70e4c\"\n",
        "CONDA_BUILD_NUMBER=\"0\"\n",
        "CONDA_CHANNEL_LABEL=\"pyrovelocity_dev\"\n",
        "\n",
        "PACKAGE_SPEC=\"conda-forge/label/\\\n",
        "$CONDA_CHANNEL_LABEL::\\\n",
        "$PACKAGE_NAME=$PACKAGE_VERSION=$CONDA_BUILD_STRING\"_\"$CONDA_BUILD_NUMBER\"\n",
        "\n",
        "USE_COLOR=true\n",
        "if [ -t 1 ]; then\n",
        "    USE_COLOR=true\n",
        "else\n",
        "    USE_COLOR=false\n",
        "fi\n",
        "\n",
        "BLUE=\"\\033[0;34;1m\"\n",
        "BOLD=\"\\033[1m\"\n",
        "NO_COLOR=\"\\033[0m\"\n",
        "\n",
        "print_with_color() {\n",
        "    local format=$1\n",
        "    shift\n",
        "    if [ \"$USE_COLOR\" = true ]; then\n",
        "        printf \"$format\" \"$@\"\n",
        "    else\n",
        "        printf \"$(echo \"$format\" | sed 's/\\x1b\\[[0-9;]*m//g')\" \"$@\"\n",
        "    fi\n",
        "}\n",
        "\n",
        "command_exists() {\n",
        "    command -v \"$1\" >/dev/null 2>&1\n",
        "}\n",
        "\n",
        "package_is_installed() {\n",
        "    local manager=\"$1\"\n",
        "    local version_spec_regex=\"\\\n",
        "${PACKAGE_NAME}.*${PACKAGE_VERSION}.*\\\n",
        "${CONDA_BUILD_STRING}_${CONDA_BUILD_NUMBER}\"\n",
        "    if $manager list | grep -E \"$version_spec_regex\" > /dev/null; then\n",
        "        return 0\n",
        "    else\n",
        "        return 1\n",
        "    fi\n",
        "}\n",
        "\n",
        "install_package() {\n",
        "    local manager=\"$1\"\n",
        "    printf \"Using manager ${BLUE}'%s'${NO_COLOR}...\\n\" \"$manager\"\n",
        "    printf \"\\n\\\n",
        "    Checking if\\n\\n\\\n",
        "    ${BOLD}%s${NO_COLOR}\\n\\\n",
        "    is installed...\\n\" \"$PACKAGE_SPEC\"\n",
        "    if package_is_installed \"$manager\"; then\n",
        "        printf \"\\n\\\n",
        "        Package ${BLUE}'%s'${NO_COLOR}\\n\\\n",
        "        with version ${BLUE}'%s'${NO_COLOR}\\n\\\n",
        "        is already installed.\\n\" \"$PACKAGE_NAME\" \"$PACKAGE_VERSION\"\n",
        "    else\n",
        "        printf \"\\n\\\n",
        "        Installing ${BLUE}'%s'${NO_COLOR}\\n\\\n",
        "        from conda-forge using ${BLUE}'%s'${NO_COLOR}...\\n\"\\\n",
        "        \"$PACKAGE_NAME\" \"$manager\"\n",
        "        set -x\n",
        "        $manager install \"$PACKAGE_SPEC\" > \"${PACKAGE_NAME}_install.log\" 2>&1\n",
        "        { set +x; } 2>/dev/null\n",
        "    fi\n",
        "}\n",
        "\n",
        "if command_exists mamba; then\n",
        "    manager=\"mamba\"\n",
        "elif command_exists conda; then\n",
        "    manager=\"conda\"\n",
        "else\n",
        "    printf \"\\n\\\n",
        "    Neither ${BOLD}mamba${NO_COLOR} nor ${BOLD}conda${NO_COLOR} is available.\\n\\\n",
        "    Please install mamba or conda and try again.\\n\\\n",
        "    Installation ${BOLD}failed${NO_COLOR}.\\n\"\n",
        "    exit 1\n",
        "fi\n",
        "\n",
        "install_package \"$manager\"\n",
        "\n",
        "printf \"\\nInstallation ${BOLD}complete${NO_COLOR}.\\n\\n\"\n",
        "\n",
        "print_with_color \"\\n\\\n",
        "Installed ${BLUE}conda${NO_COLOR} packages\\\n",
        " containing ${BOLD}'%s'${NO_COLOR}:\\n\" \"$PACKAGE_NAME\"\n",
        "$manager list | grep \"$PACKAGE_NAME\"\n",
        "print_with_color \"\\n\\\n",
        "Installed ${BLUE}pip${NO_COLOR} packages\\\n",
        " containing ${BOLD}'%s'${NO_COLOR}:\\n\" \"$PACKAGE_NAME\"\n",
        "pip list | grep \"$PACKAGE_NAME\"\n",
        "\n",
        "print_with_color \"\\n\\\n",
        "If ${BOLD}conda <-> pip${NO_COLOR} versions are not consistent,\\n\\\n",
        "the package may function as expected, but the\\n\\\n",
        "${BOLD}python${NO_COLOR} package source likely contains a\\n\\\n",
        "different ${BOLD}version string${NO_COLOR} from that used in\\n\\\n",
        "building the ${BOLD}conda${NO_COLOR} package.\\n\""
      ]
    },
    {
      "cell_type": "markdown",
      "metadata": {},
      "source": [
        "If you want to see the full list of installed packages run `!cat pyrovelocity_install.log`, open it in a text editor, or run `!mamba list`."
      ]
    },
    {
      "cell_type": "markdown",
      "metadata": {
        "id": "Tvpau7Jq-uN0"
      },
      "source": [
        "### Check installation"
      ]
    },
    {
      "cell_type": "markdown",
      "metadata": {
        "id": "kk76Hz3g3_FR"
      },
      "source": [
        "If installation was successful, the following commands should print the location of the `__init__.py` file for the pyrovelocity package and the currently installed version."
      ]
    },
    {
      "cell_type": "code",
      "execution_count": null,
      "metadata": {
        "id": "zU72v7Z5Bpg0"
      },
      "outputs": [],
      "source": [
        "import pyrovelocity\n",
        "print(pyrovelocity.__file__)\n",
        "print(pyrovelocity.__version__)"
      ]
    },
    {
      "cell_type": "markdown",
      "metadata": {
        "id": "u7-PrTWnHuAs"
      },
      "source": [
        "This is the same for the pyro package in case there was an issue with pyrovelocity install that did not affect another package."
      ]
    },
    {
      "cell_type": "code",
      "execution_count": null,
      "metadata": {
        "id": "YGXfQ0irByYX"
      },
      "outputs": [],
      "source": [
        "import pyro\n",
        "print(pyro.__file__)\n",
        "print(pyro.__version__)"
      ]
    },
    {
      "cell_type": "markdown",
      "metadata": {},
      "source": [
        "Please refer to the [docs](https://pinellolab.github.io/pyrovelocity) for tutorials and usage information."
      ]
    },
    {
      "cell_type": "markdown",
      "metadata": {
        "id": "mN_7HDmFH63A"
      },
      "source": [
        "---"
      ]
    },
    {
      "cell_type": "markdown",
      "metadata": {
        "id": "LWlQO1f5H0ks"
      },
      "source": [
        "## Analysis"
      ]
    },
    {
      "cell_type": "code",
      "execution_count": null,
      "metadata": {
        "id": "ImTG95NaH5VH"
      },
      "outputs": [],
      "source": [
        "help(pyrovelocity) # ?pyrovelocity # to open in side panel tab for reference"
      ]
    }
  ],
  "metadata": {
    "accelerator": "GPU",
    "colab": {
      "name": "pyrovelocity_colab_user_template.ipynb",
      "provenance": [],
      "toc_visible": true
    },
    "gpuClass": "standard",
    "kernelspec": {
      "display_name": "Python 3",
      "name": "python3"
    },
    "language_info": {
      "name": "python"
    }
  },
  "nbformat": 4,
  "nbformat_minor": 0
}
